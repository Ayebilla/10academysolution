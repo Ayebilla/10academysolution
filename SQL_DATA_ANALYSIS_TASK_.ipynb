{
  "nbformat": 4,
  "nbformat_minor": 0,
  "metadata": {
    "kernelspec": {
      "display_name": "Python 3",
      "language": "python",
      "name": "python3"
    },
    "language_info": {
      "codemirror_mode": {
        "name": "ipython",
        "version": 3
      },
      "file_extension": ".py",
      "mimetype": "text/x-python",
      "name": "python",
      "nbconvert_exporter": "python",
      "pygments_lexer": "ipython3",
      "version": "3.7.6"
    },
    "colab": {
      "name": "SQL_DATA_ANALYSIS_TASK .ipynb",
      "provenance": [],
      "collapsed_sections": [],
      "include_colab_link": true
    }
  },
  "cells": [
    {
      "cell_type": "markdown",
      "metadata": {
        "id": "view-in-github",
        "colab_type": "text"
      },
      "source": [
        "<a href=\"https://colab.research.google.com/github/dmarinere/10academysolution/blob/master/SQL_DATA_ANALYSIS_TASK_.ipynb\" target=\"_parent\"><img src=\"https://colab.research.google.com/assets/colab-badge.svg\" alt=\"Open In Colab\"/></a>"
      ]
    },
    {
      "cell_type": "markdown",
      "metadata": {
        "id": "yVYvdgzOuDkD",
        "colab_type": "text"
      },
      "source": [
        "# SQL DATA ANALYSIS TASK"
      ]
    },
    {
      "cell_type": "markdown",
      "metadata": {
        "id": "zVj4sNM5PtwR",
        "colab_type": "text"
      },
      "source": [
        "\n",
        "\n",
        "```\n",
        "`# This is formatted as code`\n",
        "```\n",
        "\n",
        "Name : Osuolale Iyanuloluwa    \n",
        "email: dmarinere@gmail.com"
      ]
    },
    {
      "cell_type": "code",
      "metadata": {
        "id": "GjJSkJ3tvSab",
        "colab_type": "code",
        "colab": {
          "base_uri": "https://localhost:8080/",
          "height": 34
        },
        "outputId": "f23bb146-782e-4121-8581-d490297b832d"
      },
      "source": [
        "from google.colab import drive\n",
        "drive.mount('/content/drive')"
      ],
      "execution_count": null,
      "outputs": [
        {
          "output_type": "stream",
          "text": [
            "Drive already mounted at /content/drive; to attempt to forcibly remount, call drive.mount(\"/content/drive\", force_remount=True).\n"
          ],
          "name": "stdout"
        }
      ]
    },
    {
      "cell_type": "markdown",
      "metadata": {
        "id": "pCV8f5tjuDkF",
        "colab_type": "text"
      },
      "source": [
        "# Context\n",
        "Fenix is a company that is in renewable energy. To this end, it sells solar kits to populations who are in need. Customers have the option of paying for the kit in cash or on credit. If the customer chooses to buy on credit, he can choose between one year (360 days) or two years (720). He is then asked to pay an amount per day (daily_rate), this amount depending on the duration of the loan and the type of kit he has chosen and corresponds to a day of light. So every time he pays that amount, he has a day of light. After 24 hours the system hangs and it has to make another payment to take advantage of the light. He can decide to pay for more than one day of light. The day number is then the whole part of the amount / daily rate ratio. After this number of days, the system still locks. When a customer spends more than 30 days without light, he is considered inactive. Paid vs Expected (PvE) means the ratio between the total amount paid by the client and the amount he should have paid up to date. It allows to appreciate the recovery."
      ]
    },
    {
      "cell_type": "markdown",
      "metadata": {
        "id": "0v9O5_gIuDkG",
        "colab_type": "text"
      },
      "source": [
        "Let's consider the following tables\n",
        "\n",
        "Loan_current_daitails\n",
        "\n",
        "loan_id\t|customer_id|daily_rate|days_elapsed|Days_til_lock_out|Total_paid\n",
        "--------|-----------|----------|------------|-----------------|----------\n",
        "loan_id_1|customer_id_1|daily_rate_1|days_elapsed_1|Days_til_lock_out_1|Total_paid_1\n",
        "loan_id_2|customer_id_2|daily_rate_2|days_elapsed_2|Days_til_lock_out_2|Total_paid_2\n",
        ".........|.............|............|..............|...................|............\n",
        "loan_id_n|customer_id_n\t|daily_rate_n|days_elapsed_n|Days_til_lock_out_n|Total_paid_n\n",
        "\n",
        "\n",
        "Person_democraphic\n",
        "\n",
        "customer_id\t|country|\tregion|\tprofession\n",
        "------------|-------|---------|-----------\n",
        "customer_id_1|\tCountry_1\t|Region_1\t|profession_1\n",
        ".............|\t............|..........\t|............\n",
        "customer_id_j|\tCountry_j|\tRegion_j\t|profession_j\n",
        "\n",
        "\n",
        "Sales_details\n",
        "\n",
        "loan_id\t|Product_type\t|Date_fullfiled\t|loan_duration\n",
        "--------|----------------|--------------|-------------\n",
        "loan_id_1\t|Product_type_1\t|Date_fullfiled_1\t|loan_duration_1\n",
        "...|\t...\t|...\t|...\n",
        "loan_id_n|\tProduct_type_n|\tDate_fullfiled_n|\tloan_duration_n"
      ]
    },
    {
      "cell_type": "markdown",
      "metadata": {
        "id": "lrqEe-MSuDkH",
        "colab_type": "text"
      },
      "source": [
        "### Tables description\n",
        "\n",
        "* **Loan_id:** unique loan identifier\n",
        "\n",
        "* **Customer_id:** unique customer identifier\n",
        "\n",
        "* **Days_elapsed:** the number of days the client spends with us\n",
        "\n",
        "* **Daily_rate:** expected amount from customer per day\n",
        "\n",
        "* **Days_til_lock_out:** If positive, then corresponds to the number of days of light remaining before the system hangs. If negative, corresponds to the number of days since the system was blocked (the client has been without light since this number of days)\n",
        "\n",
        "* **Total_paid:** total amount to be paid by the customer\n",
        "\n",
        "* **Country:** Customer's country\n",
        "\n",
        "* **Region:** customer department\n",
        "\n",
        "* **Profession:** client's profession\n",
        "\n",
        "* **Product_type:** the type of kit purchased by the customer\n",
        "\n",
        "* **Loan_duration:** the duration of the customer's loan (360 or 720 days)\n",
        "\n",
        "* **Date_fullfiled:** the date of the sale"
      ]
    },
    {
      "cell_type": "markdown",
      "metadata": {
        "id": "InEnHT-fuDkH",
        "colab_type": "text"
      },
      "source": [
        "### The datasets\n",
        "The datasets exist in csv formats and can be downloaded and saved on disk"
      ]
    },
    {
      "cell_type": "code",
      "metadata": {
        "id": "Nk4qznM2uDkI",
        "colab_type": "code",
        "colab": {
          "base_uri": "https://localhost:8080/",
          "height": 69
        },
        "outputId": "75b9db01-585a-4152-d11f-2b207567fb9c"
      },
      "source": [
        "%load_ext sql\n",
        "%sql sqlite:///testdb.sqlite"
      ],
      "execution_count": null,
      "outputs": [
        {
          "output_type": "stream",
          "text": [
            "The sql extension is already loaded. To reload it, use:\n",
            "  %reload_ext sql\n"
          ],
          "name": "stdout"
        },
        {
          "output_type": "execute_result",
          "data": {
            "application/vnd.google.colaboratory.intrinsic": {
              "type": "string"
            },
            "text/plain": [
              "'Connected: @testdb.sqlite'"
            ]
          },
          "metadata": {
            "tags": []
          },
          "execution_count": 11
        }
      ]
    },
    {
      "cell_type": "code",
      "metadata": {
        "id": "-ctfCOsUuDkN",
        "colab_type": "code",
        "colab": {
          "base_uri": "https://localhost:8080/",
          "height": 102
        },
        "outputId": "d094624c-a91b-48ea-edbc-6f9b1e9777cc"
      },
      "source": [
        "%%sql\n",
        "\n",
        "DROP TABLE IF EXISTS Loan_current_details;\n",
        "DROP TABLE IF EXISTS Person_demography;\n",
        "DROP TABLE IF EXISTS Sales_details;"
      ],
      "execution_count": null,
      "outputs": [
        {
          "output_type": "stream",
          "text": [
            " * sqlite:///testdb.sqlite\n",
            "Done.\n",
            "Done.\n",
            "Done.\n"
          ],
          "name": "stdout"
        },
        {
          "output_type": "execute_result",
          "data": {
            "text/plain": [
              "[]"
            ]
          },
          "metadata": {
            "tags": []
          },
          "execution_count": 12
        }
      ]
    },
    {
      "cell_type": "code",
      "metadata": {
        "id": "UsPWeT92uDkT",
        "colab_type": "code",
        "colab": {}
      },
      "source": [
        "import pandas as pd\n",
        "import sqlite3\n",
        "\n",
        "conn = sqlite3.connect(\"testdb.sqlite\")\n",
        "customers = pd.read_csv('/content/drive/My Drive/Wednesday-Week0/Loan_current_daitails.csv')\n",
        "person_demography = pd.read_csv('/content/drive/My Drive/Wednesday-Week0/Person_democraphic.csv')\n",
        "salesman = pd.read_csv('/content/drive/My Drive/Wednesday-Week0/Sales_details.csv')\n"
      ],
      "execution_count": null,
      "outputs": []
    },
    {
      "cell_type": "code",
      "metadata": {
        "id": "ZHNkw_eJ-JvJ",
        "colab_type": "code",
        "colab": {}
      },
      "source": [
        "person_demography.rename(str.lower, axis='columns', inplace=True)"
      ],
      "execution_count": null,
      "outputs": []
    },
    {
      "cell_type": "code",
      "metadata": {
        "id": "LkEZeKZb-bkN",
        "colab_type": "code",
        "colab": {}
      },
      "source": [
        "person_demography.rename(columns = {\"profession \": \"profession\"}, inplace=True)"
      ],
      "execution_count": null,
      "outputs": []
    },
    {
      "cell_type": "code",
      "metadata": {
        "id": "r4NOe9kC_lE0",
        "colab_type": "code",
        "colab": {
          "base_uri": "https://localhost:8080/",
          "height": 68
        },
        "outputId": "a5f8e6ca-9dfc-4ba4-b6c4-fab35103852d"
      },
      "source": [
        "person_demography.columns"
      ],
      "execution_count": null,
      "outputs": [
        {
          "output_type": "execute_result",
          "data": {
            "text/plain": [
              "Index(['customer_id', 'country', 'region', 'profession', 'unnamed: 4',\n",
              "       'unnamed: 5', 'unnamed: 6', 'unnamed: 7'],\n",
              "      dtype='object')"
            ]
          },
          "metadata": {
            "tags": []
          },
          "execution_count": 16
        }
      ]
    },
    {
      "cell_type": "code",
      "metadata": {
        "id": "pA-TSAd_7dH2",
        "colab_type": "code",
        "colab": {
          "base_uri": "https://localhost:8080/",
          "height": 71
        },
        "outputId": "01a431c7-cb59-4e33-f794-c4ee9b67ce19"
      },
      "source": [
        "customers.to_sql(\"Loan_current_details\", conn, index=False, if_exists=\"replace\")\n",
        "person_demography.to_sql(\"Person_demography\", conn, index=False, if_exists=\"replace\")\n",
        "salesman.to_sql(\"Sales_details\", conn, index=False, if_exists=\"replace\")"
      ],
      "execution_count": null,
      "outputs": [
        {
          "output_type": "stream",
          "text": [
            "/usr/local/lib/python3.6/dist-packages/pandas/core/generic.py:2663: UserWarning: The spaces in these column names will not be changed. In pandas versions < 0.14, spaces were converted to underscores.\n",
            "  method=method,\n"
          ],
          "name": "stderr"
        }
      ]
    },
    {
      "cell_type": "markdown",
      "metadata": {
        "id": "k28UyPKZuDkX",
        "colab_type": "text"
      },
      "source": [
        "## Question 1\n",
        "### Write a SQL code to determine the total number of loans on the one hand and the total number of customers on the other"
      ]
    },
    {
      "cell_type": "code",
      "metadata": {
        "id": "FkBNheAAuDkY",
        "colab_type": "code",
        "colab": {
          "base_uri": "https://localhost:8080/",
          "height": 95
        },
        "outputId": "d6238d56-e403-40cb-876f-5fb06560cece"
      },
      "source": [
        "%%sql\n",
        "select count(distinct customer_id) as no_of_customer, count(distinct loan_id) as no_of_loans from Loan_current_details"
      ],
      "execution_count": null,
      "outputs": [
        {
          "output_type": "stream",
          "text": [
            " * sqlite:///testdb.sqlite\n",
            "Done.\n"
          ],
          "name": "stdout"
        },
        {
          "output_type": "execute_result",
          "data": {
            "text/html": [
              "<table>\n",
              "    <tr>\n",
              "        <th>no_of_customer</th>\n",
              "        <th>no_of_loans</th>\n",
              "    </tr>\n",
              "    <tr>\n",
              "        <td>4979</td>\n",
              "        <td>5000</td>\n",
              "    </tr>\n",
              "</table>"
            ],
            "text/plain": [
              "[(4979, 5000)]"
            ]
          },
          "metadata": {
            "tags": []
          },
          "execution_count": 18
        }
      ]
    },
    {
      "cell_type": "code",
      "metadata": {
        "id": "bliLmmGe_Pb5",
        "colab_type": "code",
        "colab": {}
      },
      "source": [
        "#The total number of customers are 4979 and 5000 for total number of unique loans "
      ],
      "execution_count": null,
      "outputs": []
    },
    {
      "cell_type": "markdown",
      "metadata": {
        "id": "2pB6YvjRuDkc",
        "colab_type": "text"
      },
      "source": [
        "## Question 2\n",
        "### Write a SQL code to determine the total number of loans by type of kit"
      ]
    },
    {
      "cell_type": "code",
      "metadata": {
        "id": "jpFSPw-guDkd",
        "colab_type": "code",
        "colab": {
          "base_uri": "https://localhost:8080/",
          "height": 452
        },
        "outputId": "125bb331-996e-4c87-ac0d-b163d146ccbd"
      },
      "source": [
        "%%sql\n",
        "\n",
        "select product_type, count(loan_id) AS No_of_loans from  Sales_details  group by product_type\n"
      ],
      "execution_count": null,
      "outputs": [
        {
          "output_type": "stream",
          "text": [
            " * sqlite:///testdb.sqlite\n",
            "Done.\n"
          ],
          "name": "stdout"
        },
        {
          "output_type": "execute_result",
          "data": {
            "text/html": [
              "<table>\n",
              "    <tr>\n",
              "        <th>product_type</th>\n",
              "        <th>No_of_loans</th>\n",
              "    </tr>\n",
              "    <tr>\n",
              "        <td>Fenix 2</td>\n",
              "        <td>841</td>\n",
              "    </tr>\n",
              "    <tr>\n",
              "        <td>Fenix 3</td>\n",
              "        <td>974</td>\n",
              "    </tr>\n",
              "    <tr>\n",
              "        <td>Fenix Power 2+ Tondeuse</td>\n",
              "        <td>18</td>\n",
              "    </tr>\n",
              "    <tr>\n",
              "        <td>Fenix Power 4 + Woofer BJ</td>\n",
              "        <td>35</td>\n",
              "    </tr>\n",
              "    <tr>\n",
              "        <td>Fenix Power TV 19in FTA BJ</td>\n",
              "        <td>14</td>\n",
              "    </tr>\n",
              "    <tr>\n",
              "        <td>Fenix Power TV 19in FTA Upgrade, BJ</td>\n",
              "        <td>28</td>\n",
              "    </tr>\n",
              "    <tr>\n",
              "        <td>Fenix Power TV 24in FTA BJ</td>\n",
              "        <td>634</td>\n",
              "    </tr>\n",
              "    <tr>\n",
              "        <td>Fenix Power TV 24in FTA Upgrade, BJ</td>\n",
              "        <td>177</td>\n",
              "    </tr>\n",
              "    <tr>\n",
              "        <td>Fenix Radio +3</td>\n",
              "        <td>1791</td>\n",
              "    </tr>\n",
              "    <tr>\n",
              "        <td>Fenix Radio +5</td>\n",
              "        <td>422</td>\n",
              "    </tr>\n",
              "    <tr>\n",
              "        <td>Fenix Woofer +3</td>\n",
              "        <td>32</td>\n",
              "    </tr>\n",
              "    <tr>\n",
              "        <td>Fenix Woofer +3 (NEW)</td>\n",
              "        <td>8</td>\n",
              "    </tr>\n",
              "    <tr>\n",
              "        <td>Hors Garantie BJ</td>\n",
              "        <td>14</td>\n",
              "    </tr>\n",
              "    <tr>\n",
              "        <td>Out-of-warranty swap - SmartLife</td>\n",
              "        <td>2</td>\n",
              "    </tr>\n",
              "    <tr>\n",
              "        <td>Upgrade Fenix Boost 2 + Tondeuse</td>\n",
              "        <td>2</td>\n",
              "    </tr>\n",
              "    <tr>\n",
              "        <td>Upgrade Fenix Radio +3</td>\n",
              "        <td>5</td>\n",
              "    </tr>\n",
              "    <tr>\n",
              "        <td>Upgrade Fenix Woofer +1</td>\n",
              "        <td>1</td>\n",
              "    </tr>\n",
              "    <tr>\n",
              "        <td>Upgrade Fenix Woofer+2 BJ</td>\n",
              "        <td>2</td>\n",
              "    </tr>\n",
              "</table>"
            ],
            "text/plain": [
              "[('Fenix 2', 841),\n",
              " ('Fenix 3', 974),\n",
              " ('Fenix Power 2+ Tondeuse', 18),\n",
              " ('Fenix Power 4 + Woofer BJ', 35),\n",
              " ('Fenix Power TV 19in FTA BJ', 14),\n",
              " ('Fenix Power TV 19in FTA Upgrade, BJ', 28),\n",
              " ('Fenix Power TV 24in FTA BJ', 634),\n",
              " ('Fenix Power TV 24in FTA Upgrade, BJ', 177),\n",
              " ('Fenix Radio +3', 1791),\n",
              " ('Fenix Radio +5', 422),\n",
              " ('Fenix Woofer +3', 32),\n",
              " ('Fenix Woofer +3 (NEW)', 8),\n",
              " ('Hors Garantie BJ', 14),\n",
              " ('Out-of-warranty swap - SmartLife', 2),\n",
              " ('Upgrade Fenix Boost 2 + Tondeuse', 2),\n",
              " ('Upgrade Fenix Radio +3', 5),\n",
              " ('Upgrade Fenix Woofer +1', 1),\n",
              " ('Upgrade Fenix Woofer+2 BJ', 2)]"
            ]
          },
          "metadata": {
            "tags": []
          },
          "execution_count": 20
        }
      ]
    },
    {
      "cell_type": "markdown",
      "metadata": {
        "id": "6VxsYTSFuDki",
        "colab_type": "text"
      },
      "source": [
        "## Question 3\n",
        "### Write SQL code to determine the number of inactive loans"
      ]
    },
    {
      "cell_type": "code",
      "metadata": {
        "id": "6CGPSbtwUTpE",
        "colab_type": "code",
        "colab": {}
      },
      "source": [
        "#I first checked if my code is working correctly\n"
      ],
      "execution_count": null,
      "outputs": []
    },
    {
      "cell_type": "code",
      "metadata": {
        "id": "gU_Fiq31uDkj",
        "colab_type": "code",
        "colab": {
          "base_uri": "https://localhost:8080/",
          "height": 179
        },
        "outputId": "069ee064-d2eb-4dd3-e065-c54eb5e495aa"
      },
      "source": [
        "%%sql\n",
        "select distinct(loan_id), days_til_lockout from Loan_current_details where days_til_lockout < -30 limit 5"
      ],
      "execution_count": null,
      "outputs": [
        {
          "output_type": "stream",
          "text": [
            " * sqlite:///testdb.sqlite\n",
            "Done.\n"
          ],
          "name": "stdout"
        },
        {
          "output_type": "execute_result",
          "data": {
            "text/html": [
              "<table>\n",
              "    <tr>\n",
              "        <th>loan_id</th>\n",
              "        <th>days_til_lockout</th>\n",
              "    </tr>\n",
              "    <tr>\n",
              "        <td>586196</td>\n",
              "        <td>-46</td>\n",
              "    </tr>\n",
              "    <tr>\n",
              "        <td>552403</td>\n",
              "        <td>-120</td>\n",
              "    </tr>\n",
              "    <tr>\n",
              "        <td>695647</td>\n",
              "        <td>-46</td>\n",
              "    </tr>\n",
              "    <tr>\n",
              "        <td>563052</td>\n",
              "        <td>-139</td>\n",
              "    </tr>\n",
              "    <tr>\n",
              "        <td>418924</td>\n",
              "        <td>-118</td>\n",
              "    </tr>\n",
              "</table>"
            ],
            "text/plain": [
              "[(586196, -46), (552403, -120), (695647, -46), (563052, -139), (418924, -118)]"
            ]
          },
          "metadata": {
            "tags": []
          },
          "execution_count": 22
        }
      ]
    },
    {
      "cell_type": "code",
      "metadata": {
        "id": "uVhYz2rBUUgq",
        "colab_type": "code",
        "colab": {}
      },
      "source": [
        "#Then i proceeded to give the correct result"
      ],
      "execution_count": null,
      "outputs": []
    },
    {
      "cell_type": "code",
      "metadata": {
        "id": "znzTigJwNtXl",
        "colab_type": "code",
        "colab": {
          "base_uri": "https://localhost:8080/",
          "height": 95
        },
        "outputId": "abdf60d8-0548-48fb-9117-a1d8fe890eec"
      },
      "source": [
        "%%sql\n",
        "\n",
        "select count(loan_id) from Loan_current_details where days_til_lockout < -30"
      ],
      "execution_count": null,
      "outputs": [
        {
          "output_type": "stream",
          "text": [
            " * sqlite:///testdb.sqlite\n",
            "Done.\n"
          ],
          "name": "stdout"
        },
        {
          "output_type": "execute_result",
          "data": {
            "text/html": [
              "<table>\n",
              "    <tr>\n",
              "        <th>count(loan_id)</th>\n",
              "    </tr>\n",
              "    <tr>\n",
              "        <td>626</td>\n",
              "    </tr>\n",
              "</table>"
            ],
            "text/plain": [
              "[(626,)]"
            ]
          },
          "metadata": {
            "tags": []
          },
          "execution_count": 24
        }
      ]
    },
    {
      "cell_type": "markdown",
      "metadata": {
        "id": "_zVQ8oIxuDkp",
        "colab_type": "text"
      },
      "source": [
        "### Write a SQL code to determine the regions where the total amount of  payments exceeds 1,000,000\n",
        "\n"
      ]
    },
    {
      "cell_type": "code",
      "metadata": {
        "id": "8kb41a7heRvj",
        "colab_type": "code",
        "colab": {
          "base_uri": "https://localhost:8080/",
          "height": 326
        },
        "outputId": "b27e691f-4dad-465f-faa6-04eb023da204"
      },
      "source": [
        "%%sql\n",
        "\n",
        "select  p.region,  sum(L.total_paid) as sum_of_total_paid\n",
        "  from Person_demography P, Loan_current_details L \n",
        "  group by P.region \n",
        "  having sum(total_paid) > 1000000\n"
      ],
      "execution_count": null,
      "outputs": [
        {
          "output_type": "stream",
          "text": [
            " * sqlite:///testdb.sqlite\n",
            "Done.\n"
          ],
          "name": "stdout"
        },
        {
          "output_type": "execute_result",
          "data": {
            "text/html": [
              "<table>\n",
              "    <tr>\n",
              "        <th>region</th>\n",
              "        <th>sum_of_total_paid</th>\n",
              "    </tr>\n",
              "    <tr>\n",
              "        <td>Alibori</td>\n",
              "        <td>39364071812</td>\n",
              "    </tr>\n",
              "    <tr>\n",
              "        <td>Atacora</td>\n",
              "        <td>32061234960</td>\n",
              "    </tr>\n",
              "    <tr>\n",
              "        <td>Atlantique</td>\n",
              "        <td>247227745136</td>\n",
              "    </tr>\n",
              "    <tr>\n",
              "        <td>Borgou</td>\n",
              "        <td>82646739008</td>\n",
              "    </tr>\n",
              "    <tr>\n",
              "        <td>Collines</td>\n",
              "        <td>78906261596</td>\n",
              "    </tr>\n",
              "    <tr>\n",
              "        <td>Couffo</td>\n",
              "        <td>28855111464</td>\n",
              "    </tr>\n",
              "    <tr>\n",
              "        <td>Donga</td>\n",
              "        <td>45954436776</td>\n",
              "    </tr>\n",
              "    <tr>\n",
              "        <td>Littoral</td>\n",
              "        <td>15674381536</td>\n",
              "    </tr>\n",
              "    <tr>\n",
              "        <td>Mono</td>\n",
              "        <td>68575419220</td>\n",
              "    </tr>\n",
              "    <tr>\n",
              "        <td>Oueme</td>\n",
              "        <td>152112748088</td>\n",
              "    </tr>\n",
              "    <tr>\n",
              "        <td>Plateau</td>\n",
              "        <td>48269970412</td>\n",
              "    </tr>\n",
              "    <tr>\n",
              "        <td>Zou</td>\n",
              "        <td>47201262580</td>\n",
              "    </tr>\n",
              "</table>"
            ],
            "text/plain": [
              "[('Alibori', 39364071812),\n",
              " ('Atacora', 32061234960),\n",
              " ('Atlantique', 247227745136),\n",
              " ('Borgou', 82646739008),\n",
              " ('Collines', 78906261596),\n",
              " ('Couffo', 28855111464),\n",
              " ('Donga', 45954436776),\n",
              " ('Littoral', 15674381536),\n",
              " ('Mono', 68575419220),\n",
              " ('Oueme', 152112748088),\n",
              " ('Plateau', 48269970412),\n",
              " ('Zou', 47201262580)]"
            ]
          },
          "metadata": {
            "tags": []
          },
          "execution_count": 25
        }
      ]
    },
    {
      "cell_type": "code",
      "metadata": {
        "id": "uuQLc4Puj3Uu",
        "colab_type": "code",
        "colab": {}
      },
      "source": [
        ""
      ],
      "execution_count": null,
      "outputs": []
    },
    {
      "cell_type": "markdown",
      "metadata": {
        "id": "Nlf18M2nuDku",
        "colab_type": "text"
      },
      "source": [
        "### Write a SQL code to classify by region and in ascending order, the loans according to the total amount paid"
      ]
    },
    {
      "cell_type": "code",
      "metadata": {
        "id": "YuQLUWYMuDkv",
        "colab_type": "code",
        "colab": {
          "base_uri": "https://localhost:8080/",
          "height": 326
        },
        "outputId": "738aeeb2-0b92-4ba2-e3f0-a928715cbeaf"
      },
      "source": [
        "%%sql\n",
        "\n",
        "select  p.region,  sum(L.total_paid) as sum_of_total_paid\n",
        "  from Person_demography P, Loan_current_details L \n",
        "  group by P.region \n",
        "  order by sum_of_total_paid asc\n",
        "\n",
        "\n"
      ],
      "execution_count": null,
      "outputs": [
        {
          "output_type": "stream",
          "text": [
            " * sqlite:///testdb.sqlite\n",
            "Done.\n"
          ],
          "name": "stdout"
        },
        {
          "output_type": "execute_result",
          "data": {
            "text/html": [
              "<table>\n",
              "    <tr>\n",
              "        <th>region</th>\n",
              "        <th>sum_of_total_paid</th>\n",
              "    </tr>\n",
              "    <tr>\n",
              "        <td>Littoral</td>\n",
              "        <td>15674381536</td>\n",
              "    </tr>\n",
              "    <tr>\n",
              "        <td>Couffo</td>\n",
              "        <td>28855111464</td>\n",
              "    </tr>\n",
              "    <tr>\n",
              "        <td>Atacora</td>\n",
              "        <td>32061234960</td>\n",
              "    </tr>\n",
              "    <tr>\n",
              "        <td>Alibori</td>\n",
              "        <td>39364071812</td>\n",
              "    </tr>\n",
              "    <tr>\n",
              "        <td>Donga</td>\n",
              "        <td>45954436776</td>\n",
              "    </tr>\n",
              "    <tr>\n",
              "        <td>Zou</td>\n",
              "        <td>47201262580</td>\n",
              "    </tr>\n",
              "    <tr>\n",
              "        <td>Plateau</td>\n",
              "        <td>48269970412</td>\n",
              "    </tr>\n",
              "    <tr>\n",
              "        <td>Mono</td>\n",
              "        <td>68575419220</td>\n",
              "    </tr>\n",
              "    <tr>\n",
              "        <td>Collines</td>\n",
              "        <td>78906261596</td>\n",
              "    </tr>\n",
              "    <tr>\n",
              "        <td>Borgou</td>\n",
              "        <td>82646739008</td>\n",
              "    </tr>\n",
              "    <tr>\n",
              "        <td>Oueme</td>\n",
              "        <td>152112748088</td>\n",
              "    </tr>\n",
              "    <tr>\n",
              "        <td>Atlantique</td>\n",
              "        <td>247227745136</td>\n",
              "    </tr>\n",
              "</table>"
            ],
            "text/plain": [
              "[('Littoral', 15674381536),\n",
              " ('Couffo', 28855111464),\n",
              " ('Atacora', 32061234960),\n",
              " ('Alibori', 39364071812),\n",
              " ('Donga', 45954436776),\n",
              " ('Zou', 47201262580),\n",
              " ('Plateau', 48269970412),\n",
              " ('Mono', 68575419220),\n",
              " ('Collines', 78906261596),\n",
              " ('Borgou', 82646739008),\n",
              " ('Oueme', 152112748088),\n",
              " ('Atlantique', 247227745136)]"
            ]
          },
          "metadata": {
            "tags": []
          },
          "execution_count": 26
        }
      ]
    },
    {
      "cell_type": "markdown",
      "metadata": {
        "id": "1sJOO_LquDk0",
        "colab_type": "text"
      },
      "source": [
        "\n",
        "### Write a SQL code to determine the top 10 occupations by region with the highest total amount of payments"
      ]
    },
    {
      "cell_type": "code",
      "metadata": {
        "id": "WSUKL0l1uDk2",
        "colab_type": "code",
        "colab": {
          "base_uri": "https://localhost:8080/",
          "height": 284
        },
        "outputId": "c25012de-bb54-4618-f44c-2983aaae7dc8"
      },
      "source": [
        "%%sql\n",
        "\n",
        "select  p.region, p.profession, sum(L.total_paid) as sum_of_total_paid\n",
        "  from Person_demography P, Loan_current_details L \n",
        "  group by p.region\n",
        "  order by sum_of_total_paid desc\n",
        "  limit 10"
      ],
      "execution_count": null,
      "outputs": [
        {
          "output_type": "stream",
          "text": [
            " * sqlite:///testdb.sqlite\n",
            "Done.\n"
          ],
          "name": "stdout"
        },
        {
          "output_type": "execute_result",
          "data": {
            "text/html": [
              "<table>\n",
              "    <tr>\n",
              "        <th>region</th>\n",
              "        <th>profession</th>\n",
              "        <th>sum_of_total_paid</th>\n",
              "    </tr>\n",
              "    <tr>\n",
              "        <td>Atlantique</td>\n",
              "        <td>Security agent</td>\n",
              "        <td>247227745136</td>\n",
              "    </tr>\n",
              "    <tr>\n",
              "        <td>Oueme</td>\n",
              "        <td>Statistian</td>\n",
              "        <td>152112748088</td>\n",
              "    </tr>\n",
              "    <tr>\n",
              "        <td>Borgou</td>\n",
              "        <td>Driver</td>\n",
              "        <td>82646739008</td>\n",
              "    </tr>\n",
              "    <tr>\n",
              "        <td>Collines</td>\n",
              "        <td>Teacher</td>\n",
              "        <td>78906261596</td>\n",
              "    </tr>\n",
              "    <tr>\n",
              "        <td>Mono</td>\n",
              "        <td>Teacher</td>\n",
              "        <td>68575419220</td>\n",
              "    </tr>\n",
              "    <tr>\n",
              "        <td>Plateau</td>\n",
              "        <td>Tehnician</td>\n",
              "        <td>48269970412</td>\n",
              "    </tr>\n",
              "    <tr>\n",
              "        <td>Zou</td>\n",
              "        <td>Security agent</td>\n",
              "        <td>47201262580</td>\n",
              "    </tr>\n",
              "    <tr>\n",
              "        <td>Donga</td>\n",
              "        <td>Security agent</td>\n",
              "        <td>45954436776</td>\n",
              "    </tr>\n",
              "    <tr>\n",
              "        <td>Alibori</td>\n",
              "        <td>Cmmercial</td>\n",
              "        <td>39364071812</td>\n",
              "    </tr>\n",
              "    <tr>\n",
              "        <td>Atacora</td>\n",
              "        <td>Ingenieur</td>\n",
              "        <td>32061234960</td>\n",
              "    </tr>\n",
              "</table>"
            ],
            "text/plain": [
              "[('Atlantique', 'Security agent', 247227745136),\n",
              " ('Oueme', 'Statistian', 152112748088),\n",
              " ('Borgou', 'Driver', 82646739008),\n",
              " ('Collines', 'Teacher', 78906261596),\n",
              " ('Mono', 'Teacher', 68575419220),\n",
              " ('Plateau', 'Tehnician', 48269970412),\n",
              " ('Zou', 'Security agent', 47201262580),\n",
              " ('Donga', 'Security agent', 45954436776),\n",
              " ('Alibori', 'Cmmercial', 39364071812),\n",
              " ('Atacora', 'Ingenieur', 32061234960)]"
            ]
          },
          "metadata": {
            "tags": []
          },
          "execution_count": 27
        }
      ]
    }
  ]
}