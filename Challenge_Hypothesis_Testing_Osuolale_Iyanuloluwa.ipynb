{
  "nbformat": 4,
  "nbformat_minor": 0,
  "metadata": {
    "kernelspec": {
      "display_name": "Python 3",
      "language": "python",
      "name": "python3"
    },
    "language_info": {
      "codemirror_mode": {
        "name": "ipython",
        "version": 3
      },
      "file_extension": ".py",
      "mimetype": "text/x-python",
      "name": "python",
      "nbconvert_exporter": "python",
      "pygments_lexer": "ipython3",
      "version": "3.7.6"
    },
    "colab": {
      "name": "Challenge_Hypothesis_Testing Osuolale Iyanuloluwa.ipynb",
      "provenance": [],
      "collapsed_sections": [],
      "include_colab_link": true
    }
  },
  "cells": [
    {
      "cell_type": "markdown",
      "metadata": {
        "id": "view-in-github",
        "colab_type": "text"
      },
      "source": [
        "<a href=\"https://colab.research.google.com/github/dmarinere/10academysolution/blob/master/Challenge_Hypothesis_Testing_Osuolale_Iyanuloluwa.ipynb\" target=\"_parent\"><img src=\"https://colab.research.google.com/assets/colab-badge.svg\" alt=\"Open In Colab\"/></a>"
      ]
    },
    {
      "cell_type": "markdown",
      "metadata": {
        "id": "8sL3S35hU_J5",
        "colab_type": "text"
      },
      "source": [
        "Osuolale Iyanuloluwa\n",
        "dmarinere@gmail.com"
      ]
    },
    {
      "cell_type": "code",
      "metadata": {
        "id": "HSejP6CT1ALd",
        "colab_type": "code",
        "colab": {}
      },
      "source": [
        "import pandas as pd\n",
        "import numpy as np\n",
        "import seaborn as sns\n",
        "import statsmodels.api as sm\n"
      ],
      "execution_count": null,
      "outputs": []
    },
    {
      "cell_type": "code",
      "metadata": {
        "id": "68Wa-TNZ1ECq",
        "colab_type": "code",
        "colab": {
          "base_uri": "https://localhost:8080/",
          "height": 122
        },
        "outputId": "a5903c70-bc90-4708-9848-09495fa1af2c"
      },
      "source": [
        "from google.colab import drive\n",
        "drive.mount('/content/drive')"
      ],
      "execution_count": null,
      "outputs": [
        {
          "output_type": "stream",
          "text": [
            "Go to this URL in a browser: https://accounts.google.com/o/oauth2/auth?client_id=947318989803-6bn6qk8qdgf4n4g3pfee6491hc0brc4i.apps.googleusercontent.com&redirect_uri=urn%3aietf%3awg%3aoauth%3a2.0%3aoob&response_type=code&scope=email%20https%3a%2f%2fwww.googleapis.com%2fauth%2fdocs.test%20https%3a%2f%2fwww.googleapis.com%2fauth%2fdrive%20https%3a%2f%2fwww.googleapis.com%2fauth%2fdrive.photos.readonly%20https%3a%2f%2fwww.googleapis.com%2fauth%2fpeopleapi.readonly\n",
            "\n",
            "Enter your authorization code:\n",
            "··········\n",
            "Mounted at /content/drive\n"
          ],
          "name": "stdout"
        }
      ]
    },
    {
      "cell_type": "markdown",
      "metadata": {
        "id": "2FlNZq9uCZ7P",
        "colab_type": "text"
      },
      "source": [
        "## Challenge_Hypothesis Testing\n",
        "\n",
        "In this challenge, you will consider the state of North Carolina data set containing information on births recorded in this state. This data set is useful to researchers studying the relation between habits and practices of expectant mothers and the birth of their children. \n",
        "\n",
        "\n",
        "**The following is the variable descriptions**\n",
        "\n",
        "| variable         | description |\n",
        "| ---------------- | ------------|\n",
        "| `fage`           | father's age in years. |\n",
        "| `mage`           | mother's age in years. |\n",
        "| `mature`         | maturity status of mother. |\n",
        "| `weeks`          | length of pregnancy in weeks. |\n",
        "| `premie`         | whether the birth was classified as premature (premie) or full-term. |\n",
        "| `visits`         | number of hospital visits during pregnancy. |\n",
        "| `marital`        | whether mother is `married` or `not married` at birth. |\n",
        "| `gained`         | weight gained by mother during pregnancy in pounds. |\n",
        "| `weight`         | weight of the baby at birth in pounds. |\n",
        "| `lowbirthweight` | whether baby was classified as low birthweight (`low`) or not (`not low`). |\n",
        "| `gender`         | gender of the baby, `female` or `male`. |\n",
        "| `habit`          | status of the mother as a `nonsmoker` or a `smoker`. |\n",
        "| `whitemom`       | whether mom is `white` or `not white`. |\n",
        "**Based on this data, perform the following tasks**:\n",
        "\n",
        "\n",
        "- Make a side-by-side boxplot of habit and weight. What does the plot highlight about the relationship between these two variables?\n",
        "\n",
        "- Write the hypotheses for testing if the average weights of babies born to smoking and non-smoking mothers are different.\n",
        "\n",
        "- Conduct a hypothesis test evaluating whether the average weight gained by younger mothers is different than the average weight gained by mature mothers.\n",
        "\n",
        "- Construct a confidence interval for the difference between the weights of babies born to smoking and non-smoking mothers."
      ]
    },
    {
      "cell_type": "code",
      "metadata": {
        "id": "KlC-JypA0_Lm",
        "colab_type": "code",
        "colab": {}
      },
      "source": [
        "df = pd.read_csv(\"/content/drive/My Drive/Thursday-Week0/nc (1).csv\")"
      ],
      "execution_count": null,
      "outputs": []
    },
    {
      "cell_type": "code",
      "metadata": {
        "id": "uPqnhmSxOVH1",
        "colab_type": "code",
        "colab": {
          "base_uri": "https://localhost:8080/",
          "height": 34
        },
        "outputId": "8dcbf4e2-c18c-42b0-d014-97351bd5164c"
      },
      "source": [
        "len(df)"
      ],
      "execution_count": null,
      "outputs": [
        {
          "output_type": "execute_result",
          "data": {
            "text/plain": [
              "1000"
            ]
          },
          "metadata": {
            "tags": []
          },
          "execution_count": 23
        }
      ]
    },
    {
      "cell_type": "code",
      "metadata": {
        "id": "1HpZl7RF7nE2",
        "colab_type": "code",
        "colab": {
          "base_uri": "https://localhost:8080/",
          "height": 309
        },
        "outputId": "4af7250d-9524-43c3-fc88-72a63253c6e5"
      },
      "source": [
        "df.head()"
      ],
      "execution_count": null,
      "outputs": [
        {
          "output_type": "execute_result",
          "data": {
            "text/html": [
              "<div>\n",
              "<style scoped>\n",
              "    .dataframe tbody tr th:only-of-type {\n",
              "        vertical-align: middle;\n",
              "    }\n",
              "\n",
              "    .dataframe tbody tr th {\n",
              "        vertical-align: top;\n",
              "    }\n",
              "\n",
              "    .dataframe thead th {\n",
              "        text-align: right;\n",
              "    }\n",
              "</style>\n",
              "<table border=\"1\" class=\"dataframe\">\n",
              "  <thead>\n",
              "    <tr style=\"text-align: right;\">\n",
              "      <th></th>\n",
              "      <th>fage</th>\n",
              "      <th>mage</th>\n",
              "      <th>mature</th>\n",
              "      <th>weeks</th>\n",
              "      <th>premie</th>\n",
              "      <th>visits</th>\n",
              "      <th>marital</th>\n",
              "      <th>gained</th>\n",
              "      <th>weight</th>\n",
              "      <th>lowbirthweight</th>\n",
              "      <th>gender</th>\n",
              "      <th>habit</th>\n",
              "      <th>whitemom</th>\n",
              "    </tr>\n",
              "  </thead>\n",
              "  <tbody>\n",
              "    <tr>\n",
              "      <th>0</th>\n",
              "      <td>NaN</td>\n",
              "      <td>13</td>\n",
              "      <td>younger mom</td>\n",
              "      <td>39.0</td>\n",
              "      <td>full term</td>\n",
              "      <td>10.0</td>\n",
              "      <td>married</td>\n",
              "      <td>38.0</td>\n",
              "      <td>7.63</td>\n",
              "      <td>not low</td>\n",
              "      <td>male</td>\n",
              "      <td>nonsmoker</td>\n",
              "      <td>not white</td>\n",
              "    </tr>\n",
              "    <tr>\n",
              "      <th>1</th>\n",
              "      <td>NaN</td>\n",
              "      <td>14</td>\n",
              "      <td>younger mom</td>\n",
              "      <td>42.0</td>\n",
              "      <td>full term</td>\n",
              "      <td>15.0</td>\n",
              "      <td>married</td>\n",
              "      <td>20.0</td>\n",
              "      <td>7.88</td>\n",
              "      <td>not low</td>\n",
              "      <td>male</td>\n",
              "      <td>nonsmoker</td>\n",
              "      <td>not white</td>\n",
              "    </tr>\n",
              "    <tr>\n",
              "      <th>2</th>\n",
              "      <td>19.0</td>\n",
              "      <td>15</td>\n",
              "      <td>younger mom</td>\n",
              "      <td>37.0</td>\n",
              "      <td>full term</td>\n",
              "      <td>11.0</td>\n",
              "      <td>married</td>\n",
              "      <td>38.0</td>\n",
              "      <td>6.63</td>\n",
              "      <td>not low</td>\n",
              "      <td>female</td>\n",
              "      <td>nonsmoker</td>\n",
              "      <td>white</td>\n",
              "    </tr>\n",
              "    <tr>\n",
              "      <th>3</th>\n",
              "      <td>21.0</td>\n",
              "      <td>15</td>\n",
              "      <td>younger mom</td>\n",
              "      <td>41.0</td>\n",
              "      <td>full term</td>\n",
              "      <td>6.0</td>\n",
              "      <td>married</td>\n",
              "      <td>34.0</td>\n",
              "      <td>8.00</td>\n",
              "      <td>not low</td>\n",
              "      <td>male</td>\n",
              "      <td>nonsmoker</td>\n",
              "      <td>white</td>\n",
              "    </tr>\n",
              "    <tr>\n",
              "      <th>4</th>\n",
              "      <td>NaN</td>\n",
              "      <td>15</td>\n",
              "      <td>younger mom</td>\n",
              "      <td>39.0</td>\n",
              "      <td>full term</td>\n",
              "      <td>9.0</td>\n",
              "      <td>married</td>\n",
              "      <td>27.0</td>\n",
              "      <td>6.38</td>\n",
              "      <td>not low</td>\n",
              "      <td>female</td>\n",
              "      <td>nonsmoker</td>\n",
              "      <td>not white</td>\n",
              "    </tr>\n",
              "  </tbody>\n",
              "</table>\n",
              "</div>"
            ],
            "text/plain": [
              "   fage  mage       mature  weeks  ... lowbirthweight  gender      habit   whitemom\n",
              "0   NaN    13  younger mom   39.0  ...        not low    male  nonsmoker  not white\n",
              "1   NaN    14  younger mom   42.0  ...        not low    male  nonsmoker  not white\n",
              "2  19.0    15  younger mom   37.0  ...        not low  female  nonsmoker      white\n",
              "3  21.0    15  younger mom   41.0  ...        not low    male  nonsmoker      white\n",
              "4   NaN    15  younger mom   39.0  ...        not low  female  nonsmoker  not white\n",
              "\n",
              "[5 rows x 13 columns]"
            ]
          },
          "metadata": {
            "tags": []
          },
          "execution_count": 20
        }
      ]
    },
    {
      "cell_type": "markdown",
      "metadata": {
        "id": "ri02j_YEU97P",
        "colab_type": "text"
      },
      "source": [
        ""
      ]
    },
    {
      "cell_type": "markdown",
      "metadata": {
        "id": "y8J7kPVzUnmE",
        "colab_type": "text"
      },
      "source": [
        "##  **Question** **1**"
      ]
    },
    {
      "cell_type": "markdown",
      "metadata": {
        "id": "8U_xC5yIKvTU",
        "colab_type": "text"
      },
      "source": [
        "Here is the boxplot of Habit and Weight, where habit is a categorical variable of smokers and nonsmoker"
      ]
    },
    {
      "cell_type": "code",
      "metadata": {
        "id": "Qhre97twwWI-",
        "colab_type": "code",
        "colab": {
          "base_uri": "https://localhost:8080/",
          "height": 296
        },
        "outputId": "cca76bb6-5e19-4094-b1c1-ec5ee2e11cc8"
      },
      "source": [
        "sns.boxplot(x='habit', y='weight', data=df)"
      ],
      "execution_count": null,
      "outputs": [
        {
          "output_type": "execute_result",
          "data": {
            "text/plain": [
              "<matplotlib.axes._subplots.AxesSubplot at 0x7f7b93bd6c18>"
            ]
          },
          "metadata": {
            "tags": []
          },
          "execution_count": 11
        },
        {
          "output_type": "display_data",
          "data": {
            "image/png": "[encoded data removed]",
            "text/plain": [
              "<Figure size 432x288 with 1 Axes>"
            ]
          },
          "metadata": {
            "tags": [],
            "needs_background": "light"
          }
        }
      ]
    },
    {
      "cell_type": "markdown",
      "metadata": {
        "id": "IPDqsE2jh6DP",
        "colab_type": "text"
      },
      "source": [
        "##  Question 2\n",
        "#### Write the hypotheses for testing if the average weights of babies born to smoking and non-smoking mothers are different."
      ]
    },
    {
      "cell_type": "markdown",
      "metadata": {
        "id": "FzFYgSGVh8nw",
        "colab_type": "text"
      },
      "source": [
        "Null Hypothesis  :  μ1 = μ2    \n",
        "Alternative Hypothesis:  μ1 ≠ μ2   "
      ]
    },
    {
      "cell_type": "code",
      "metadata": {
        "id": "TBCl-UbwLJOw",
        "colab_type": "code",
        "colab": {
          "base_uri": "https://localhost:8080/",
          "height": 173
        },
        "outputId": "a2614d7a-0a57-4d9a-b586-ae91115459db"
      },
      "source": [
        "#Here is the sample statistics\n",
        "dx = df.groupby('habit').agg({'weight' : [np.mean, np.std, np.size]})\n",
        "dx"
      ],
      "execution_count": null,
      "outputs": [
        {
          "output_type": "execute_result",
          "data": {
            "text/html": [
              "<div>\n",
              "<style scoped>\n",
              "    .dataframe tbody tr th:only-of-type {\n",
              "        vertical-align: middle;\n",
              "    }\n",
              "\n",
              "    .dataframe tbody tr th {\n",
              "        vertical-align: top;\n",
              "    }\n",
              "\n",
              "    .dataframe thead tr th {\n",
              "        text-align: left;\n",
              "    }\n",
              "\n",
              "    .dataframe thead tr:last-of-type th {\n",
              "        text-align: right;\n",
              "    }\n",
              "</style>\n",
              "<table border=\"1\" class=\"dataframe\">\n",
              "  <thead>\n",
              "    <tr>\n",
              "      <th></th>\n",
              "      <th colspan=\"3\" halign=\"left\">weight</th>\n",
              "    </tr>\n",
              "    <tr>\n",
              "      <th></th>\n",
              "      <th>mean</th>\n",
              "      <th>std</th>\n",
              "      <th>size</th>\n",
              "    </tr>\n",
              "    <tr>\n",
              "      <th>habit</th>\n",
              "      <th></th>\n",
              "      <th></th>\n",
              "      <th></th>\n",
              "    </tr>\n",
              "  </thead>\n",
              "  <tbody>\n",
              "    <tr>\n",
              "      <th>nonsmoker</th>\n",
              "      <td>7.144273</td>\n",
              "      <td>1.518681</td>\n",
              "      <td>873.0</td>\n",
              "    </tr>\n",
              "    <tr>\n",
              "      <th>smoker</th>\n",
              "      <td>6.828730</td>\n",
              "      <td>1.386180</td>\n",
              "      <td>126.0</td>\n",
              "    </tr>\n",
              "  </tbody>\n",
              "</table>\n",
              "</div>"
            ],
            "text/plain": [
              "             weight                 \n",
              "               mean       std   size\n",
              "habit                               \n",
              "nonsmoker  7.144273  1.518681  873.0\n",
              "smoker     6.828730  1.386180  126.0"
            ]
          },
          "metadata": {
            "tags": []
          },
          "execution_count": 39
        }
      ]
    },
    {
      "cell_type": "markdown",
      "metadata": {
        "id": "IxYbHTuuisma",
        "colab_type": "text"
      },
      "source": [
        "μ1−μ2= 0.316"
      ]
    },
    {
      "cell_type": "code",
      "metadata": {
        "id": "oNbK77dmZVwh",
        "colab_type": "code",
        "colab": {
          "base_uri": "https://localhost:8080/",
          "height": 34
        },
        "outputId": "0d93adf7-b0c7-4c5d-c9cc-3d87b80bdfc6"
      },
      "source": [
        "sm.stats.ztest(df.loc[df.habit==\"smoker\", \"weight\"].dropna(), df.loc[df.habit==\"nonsmoker\", \"weight\"].dropna(),alternative='two-sided')"
      ],
      "execution_count": null,
      "outputs": [
        {
          "output_type": "execute_result",
          "data": {
            "text/plain": [
              "(-2.2033962812961625, 0.02756683007480755)"
            ]
          },
          "metadata": {
            "tags": []
          },
          "execution_count": 46
        }
      ]
    },
    {
      "cell_type": "markdown",
      "metadata": {
        "id": "ifIxYiBXbXV4",
        "colab_type": "text"
      },
      "source": [
        "Since the p-value  (0.0275) is lower than the standard confidence level 0.05, we can reject the Null hypothesis that the average weights of babies born to smoking and non-smoking mothers are equal, Note: i used `alternative=\"two-sided\"` because we are testing for inequality in both sides"
      ]
    },
    {
      "cell_type": "markdown",
      "metadata": {
        "id": "mHYTpy_aj1Bn",
        "colab_type": "text"
      },
      "source": [
        "## **Question** **3**\n",
        "#### Conduct a hypothesis test evaluating whether the average weight gained by younger mothers is different than the average weight gained by mature mothers."
      ]
    },
    {
      "cell_type": "markdown",
      "metadata": {
        "id": "ZzqGTGOhkE3o",
        "colab_type": "text"
      },
      "source": [
        "**Null** **Hypothesis**  :  **μ1** = **μ2**    \n",
        "**Alternative** **Hypothesis**:  **μ1 ≠** **μ2** "
      ]
    },
    {
      "cell_type": "code",
      "metadata": {
        "id": "3804rVnPWRSm",
        "colab_type": "code",
        "colab": {
          "base_uri": "https://localhost:8080/",
          "height": 173
        },
        "outputId": "30c4765e-e0fa-43b2-a904-2ca766ad464b"
      },
      "source": [
        "dx = df.groupby('mature').agg({'gained' : [np.mean, np.std, np.size]})\n",
        "dx"
      ],
      "execution_count": null,
      "outputs": [
        {
          "output_type": "execute_result",
          "data": {
            "text/html": [
              "<div>\n",
              "<style scoped>\n",
              "    .dataframe tbody tr th:only-of-type {\n",
              "        vertical-align: middle;\n",
              "    }\n",
              "\n",
              "    .dataframe tbody tr th {\n",
              "        vertical-align: top;\n",
              "    }\n",
              "\n",
              "    .dataframe thead tr th {\n",
              "        text-align: left;\n",
              "    }\n",
              "\n",
              "    .dataframe thead tr:last-of-type th {\n",
              "        text-align: right;\n",
              "    }\n",
              "</style>\n",
              "<table border=\"1\" class=\"dataframe\">\n",
              "  <thead>\n",
              "    <tr>\n",
              "      <th></th>\n",
              "      <th colspan=\"3\" halign=\"left\">gained</th>\n",
              "    </tr>\n",
              "    <tr>\n",
              "      <th></th>\n",
              "      <th>mean</th>\n",
              "      <th>std</th>\n",
              "      <th>size</th>\n",
              "    </tr>\n",
              "    <tr>\n",
              "      <th>mature</th>\n",
              "      <th></th>\n",
              "      <th></th>\n",
              "      <th></th>\n",
              "    </tr>\n",
              "  </thead>\n",
              "  <tbody>\n",
              "    <tr>\n",
              "      <th>mature mom</th>\n",
              "      <td>28.790698</td>\n",
              "      <td>13.482439</td>\n",
              "      <td>133.0</td>\n",
              "    </tr>\n",
              "    <tr>\n",
              "      <th>younger mom</th>\n",
              "      <td>30.560427</td>\n",
              "      <td>14.346910</td>\n",
              "      <td>867.0</td>\n",
              "    </tr>\n",
              "  </tbody>\n",
              "</table>\n",
              "</div>"
            ],
            "text/plain": [
              "                gained                  \n",
              "                  mean        std   size\n",
              "mature                                  \n",
              "mature mom   28.790698  13.482439  133.0\n",
              "younger mom  30.560427  14.346910  867.0"
            ]
          },
          "metadata": {
            "tags": []
          },
          "execution_count": 45
        }
      ]
    },
    {
      "cell_type": "markdown",
      "metadata": {
        "id": "0K5w-1Vwkfzm",
        "colab_type": "text"
      },
      "source": [
        "μ1 - μ2 = 0.7698  \n"
      ]
    },
    {
      "cell_type": "code",
      "metadata": {
        "id": "DFHjBkNTcYN0",
        "colab_type": "code",
        "colab": {
          "base_uri": "https://localhost:8080/",
          "height": 34
        },
        "outputId": "98b7e458-3bdc-4e58-cb16-cd241674f7c2"
      },
      "source": [
        "sm.stats.ztest(df.loc[df.mature==\"mature mom\", \"gained\"].dropna(), df.loc[df.mature==\"younger mom\", \"gained\"].dropna(),alternative='two-sided')"
      ],
      "execution_count": null,
      "outputs": [
        {
          "output_type": "execute_result",
          "data": {
            "text/plain": [
              "(-1.3150120052394427, 0.18850586777828726)"
            ]
          },
          "metadata": {
            "tags": []
          },
          "execution_count": 48
        }
      ]
    },
    {
      "cell_type": "markdown",
      "metadata": {
        "id": "ApFZFqL0c2eX",
        "colab_type": "text"
      },
      "source": [
        "Since the p-value (0.186) is greater than the standard confidence level 0.05, we can accept the Null hypothesis that the average weight gained by younger mothers is equal to the average weight gained by mature mothers.\n",
        "Notice that we also used ```two-sided``` because we are testing for inequality in both side <>\n",
        "\n"
      ]
    },
    {
      "cell_type": "markdown",
      "metadata": {
        "id": "Z3Ig8hDbeWuv",
        "colab_type": "text"
      },
      "source": [
        "\n",
        "   ## **Question**  **4** \n",
        "   ## Construct a confidence interval for the difference between the weights of babies born to smoking and non-smoking mothers."
      ]
    },
    {
      "cell_type": "markdown",
      "metadata": {
        "id": "hUZBdH9Vgr9y",
        "colab_type": "text"
      },
      "source": [
        "#### **The** **summary** **statistics** "
      ]
    },
    {
      "cell_type": "code",
      "metadata": {
        "id": "1HXP-wr_fcQF",
        "colab_type": "code",
        "colab": {
          "base_uri": "https://localhost:8080/",
          "height": 173
        },
        "outputId": "b498ec78-e33b-4dc2-d393-9c67029fc123"
      },
      "source": [
        "dx = df.groupby('habit').agg({'weight' : [np.mean, np.std, np.size]})\n",
        "dx"
      ],
      "execution_count": null,
      "outputs": [
        {
          "output_type": "execute_result",
          "data": {
            "text/html": [
              "<div>\n",
              "<style scoped>\n",
              "    .dataframe tbody tr th:only-of-type {\n",
              "        vertical-align: middle;\n",
              "    }\n",
              "\n",
              "    .dataframe tbody tr th {\n",
              "        vertical-align: top;\n",
              "    }\n",
              "\n",
              "    .dataframe thead tr th {\n",
              "        text-align: left;\n",
              "    }\n",
              "\n",
              "    .dataframe thead tr:last-of-type th {\n",
              "        text-align: right;\n",
              "    }\n",
              "</style>\n",
              "<table border=\"1\" class=\"dataframe\">\n",
              "  <thead>\n",
              "    <tr>\n",
              "      <th></th>\n",
              "      <th colspan=\"3\" halign=\"left\">weight</th>\n",
              "    </tr>\n",
              "    <tr>\n",
              "      <th></th>\n",
              "      <th>mean</th>\n",
              "      <th>std</th>\n",
              "      <th>size</th>\n",
              "    </tr>\n",
              "    <tr>\n",
              "      <th>habit</th>\n",
              "      <th></th>\n",
              "      <th></th>\n",
              "      <th></th>\n",
              "    </tr>\n",
              "  </thead>\n",
              "  <tbody>\n",
              "    <tr>\n",
              "      <th>nonsmoker</th>\n",
              "      <td>7.144273</td>\n",
              "      <td>1.518681</td>\n",
              "      <td>873.0</td>\n",
              "    </tr>\n",
              "    <tr>\n",
              "      <th>smoker</th>\n",
              "      <td>6.828730</td>\n",
              "      <td>1.386180</td>\n",
              "      <td>126.0</td>\n",
              "    </tr>\n",
              "  </tbody>\n",
              "</table>\n",
              "</div>"
            ],
            "text/plain": [
              "             weight                 \n",
              "               mean       std   size\n",
              "habit                               \n",
              "nonsmoker  7.144273  1.518681  873.0\n",
              "smoker     6.828730  1.386180  126.0"
            ]
          },
          "metadata": {
            "tags": []
          },
          "execution_count": 51
        }
      ]
    },
    {
      "cell_type": "code",
      "metadata": {
        "id": "jhETmRq9fcUD",
        "colab_type": "code",
        "colab": {
          "base_uri": "https://localhost:8080/",
          "height": 34
        },
        "outputId": "46601074-3d6b-42c1-b596-9a1a96064720"
      },
      "source": [
        "#calculating the standard error of the mean for smoker, non smoker\n",
        "sem_nonsmoker = 1.518681 / np.sqrt(873)\n",
        "sem_smoker = 1.386180 / np.sqrt(126)\n",
        "print(sem_nonsmoker, sem_smoker)"
      ],
      "execution_count": null,
      "outputs": [
        {
          "output_type": "stream",
          "text": [
            "0.05139956431370965 0.12349072943805481\n"
          ],
          "name": "stdout"
        }
      ]
    },
    {
      "cell_type": "code",
      "metadata": {
        "id": "CQhssYa3fcXv",
        "colab_type": "code",
        "colab": {
          "base_uri": "https://localhost:8080/",
          "height": 34
        },
        "outputId": "2bda7ded-a94f-4b29-b73b-0e9034c2e738"
      },
      "source": [
        "\n",
        "sem_diff = np.sqrt(sem_nonsmoker**2 + sem_smoker**2)\n",
        "sem_diff"
      ],
      "execution_count": null,
      "outputs": [
        {
          "output_type": "execute_result",
          "data": {
            "text/plain": [
              "0.1337605153577917"
            ]
          },
          "metadata": {
            "tags": []
          },
          "execution_count": 53
        }
      ]
    },
    {
      "cell_type": "code",
      "metadata": {
        "id": "JHy_iFmkpUbM",
        "colab_type": "code",
        "colab": {
          "base_uri": "https://localhost:8080/",
          "height": 34
        },
        "outputId": "e8e10dd9-422d-479b-896b-9484fb80fa26"
      },
      "source": [
        "#difference between the means\n",
        "diff_mean = 7.144273 -6.828730\n",
        "print(diff_mean)"
      ],
      "execution_count": null,
      "outputs": [
        {
          "output_type": "stream",
          "text": [
            "0.3155429999999999\n"
          ],
          "name": "stdout"
        }
      ]
    },
    {
      "cell_type": "code",
      "metadata": {
        "id": "ikFFy_b6pgVH",
        "colab_type": "code",
        "colab": {
          "base_uri": "https://localhost:8080/",
          "height": 34
        },
        "outputId": "21d13fe5-02dc-477c-e4c6-9fff5e26dabb"
      },
      "source": [
        "#lower and upper confidence interval bounds calculations\n",
        "lcb = diff_mean - 1.96 * sem_diff\n",
        "ucb = diff_mean + 1.96 * sem_diff\n",
        "print(lcb, ucb)"
      ],
      "execution_count": null,
      "outputs": [
        {
          "output_type": "execute_result",
          "data": {
            "text/plain": [
              "(0.05337238989872817, 0.5777136101012716)"
            ]
          },
          "metadata": {
            "tags": []
          },
          "execution_count": 56
        }
      ]
    },
    {
      "cell_type": "markdown",
      "metadata": {
        "id": "pWh_UbQ3rTxr",
        "colab_type": "text"
      },
      "source": [
        "Our answer above means that we are 95% confident that the difference between the average weight of the babies whose mother smoke or doesn't smoke is \n",
        "between 0.0533 to 0.5777 "
      ]
    }
  ]
}